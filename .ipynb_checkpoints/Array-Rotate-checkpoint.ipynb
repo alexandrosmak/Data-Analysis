{
 "cells": [
  {
   "cell_type": "code",
   "execution_count": 4,
   "metadata": {},
   "outputs": [],
   "source": [
    "import numpy as np # linear algebra"
   ]
  },
  {
   "cell_type": "code",
   "execution_count": 10,
   "metadata": {},
   "outputs": [
    {
     "name": "stdout",
     "output_type": "stream",
     "text": [
      "init array\n",
      "[[0 1 2]\n",
      " [3 4 5]\n",
      " [6 7 8]]\n",
      "rotated array\n",
      "[[2 0 1]\n",
      " [5 3 4]\n",
      " [8 6 7]]\n"
     ]
    }
   ],
   "source": [
    "# 2D Array Rotation based on ariticle: https://stackoverflow.com/questions/19878280/efficient-way-to-shift-2d-matrices-in-both-directions/25628221 \n",
    "\n",
    "X = np.array([[0, 1, 2],\n",
    " [3, 4, 5],\n",
    " [6, 7, 8]])\n",
    "\n",
    "XR = np.roll(X, 1, axis=1) # right one\n",
    "\n",
    "print(\"init array\")\n",
    "print(X)\n",
    "print(\"rotated array\")\n",
    "print(XR)"
   ]
  },
  {
   "cell_type": "code",
   "execution_count": 20,
   "metadata": {},
   "outputs": [
    {
     "name": "stdout",
     "output_type": "stream",
     "text": [
      "[5 1 2 3 4]\n",
      "[2 3 4 5 1]\n"
     ]
    }
   ],
   "source": [
    "import collections \n",
    "\n",
    "X = collections.deque([1, 2, 3, 4, 5])\n",
    "\n",
    "X.rotate(1)\n",
    "XR = np.array(X)\n",
    "print(XR)\n",
    "\n",
    "X.rotate(-2)\n",
    "XR = np.array(X)\n",
    "print(XR)"
   ]
  },
  {
   "cell_type": "code",
   "execution_count": null,
   "metadata": {},
   "outputs": [],
   "source": []
  }
 ],
 "metadata": {
  "kernelspec": {
   "display_name": "Python 3 (ipykernel)",
   "language": "python",
   "name": "python3"
  },
  "language_info": {
   "codemirror_mode": {
    "name": "ipython",
    "version": 3
   },
   "file_extension": ".py",
   "mimetype": "text/x-python",
   "name": "python",
   "nbconvert_exporter": "python",
   "pygments_lexer": "ipython3",
   "version": "3.9.12"
  }
 },
 "nbformat": 4,
 "nbformat_minor": 4
}
