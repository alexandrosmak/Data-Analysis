{
 "cells": [
  {
   "cell_type": "markdown",
   "id": "ed522008",
   "metadata": {},
   "source": [
    "## How to read various files format with Python\n"
   ]
  },
  {
   "cell_type": "markdown",
   "id": "bf026cb0",
   "metadata": {},
   "source": [
    "* Data is acquired in various formats, mainly depending on its content. Therefore, to succeed in the data science industry one needs to read, analyze and interpret data as efficiently as possible. Herein, we summarise how different file formats can be accessed via Python"
   ]
  },
  {
   "cell_type": "markdown",
   "id": "e6590f4a",
   "metadata": {},
   "source": [
    "### Reading CSV Files"
   ]
  },
  {
   "cell_type": "markdown",
   "id": "00ed12f1",
   "metadata": {},
   "source": [
    "#### CSV.READER"
   ]
  },
  {
   "cell_type": "code",
   "execution_count": 63,
   "id": "aa3d0bf1",
   "metadata": {},
   "outputs": [],
   "source": [
    "import csv\n",
    "import pandas as pd\n",
    "import numpy as np\n",
    "import matplotlib.pyplot as plt"
   ]
  },
  {
   "cell_type": "code",
   "execution_count": 64,
   "id": "ef4523e5",
   "metadata": {},
   "outputs": [
    {
     "name": "stdout",
     "output_type": "stream",
     "text": [
      "['Name', '     \"Sex\"', ' \"Age\"', ' \"Height (in)\"', ' \"Weight (lbs)\"']\n",
      "[['Alex', '       \"M\"', '   41', '       74', '      170'], ['Bert', '       \"M\"', '   42', '       68', '      166'], ['Carl', '       \"M\"', '   32', '       70', '      155'], ['Dave', '       \"M\"', '   39', '       72', '      167'], ['Elly', '       \"F\"', '   30', '       66', '      124'], ['Fran', '       \"F\"', '   33', '       66', '      115'], ['Gwen', '       \"F\"', '   26', '       64', '      121'], ['Hank', '       \"M\"', '   30', '       71', '      158'], ['Ivan', '       \"M\"', '   53', '       72', '      175'], ['Jake', '       \"M\"', '   32', '       69', '      143'], ['Kate', '       \"F\"', '   47', '       69', '      139'], ['Luke', '       \"M\"', '   34', '       72', '      163'], ['Myra', '       \"F\"', '   23', '       62', '       98'], ['Neil', '       \"M\"', '   36', '       75', '      160'], ['Omar', '       \"M\"', '   38', '       70', '      145'], ['Page', '       \"F\"', '   31', '       67', '      135'], ['Quin', '       \"M\"', '   29', '       71', '      176'], ['Ruth', '       \"F\"', '   28', '       65', '      131'], []]\n"
     ]
    }
   ],
   "source": [
    "file = open('biostats.csv')\n",
    "csvreader = csv.reader(file)\n",
    "\n",
    "# Extract headers\n",
    "header = []\n",
    "header = next(csvreader)\n",
    "header\n",
    "\n",
    "# Extral actual data points\n",
    "rows = []\n",
    "for row in csvreader:\n",
    "        rows.append(row)\n",
    "rows\n",
    "\n",
    "print(header)\n",
    "print(rows)"
   ]
  },
  {
   "cell_type": "code",
   "execution_count": 65,
   "id": "4160ca70",
   "metadata": {},
   "outputs": [
    {
     "name": "stdout",
     "output_type": "stream",
     "text": [
      "['\"Name\",     \"Sex\", \"Age\", \"Height (in)\", \"Weight (lbs)\"\\n']\n",
      "['\"Alex\",       \"M\",   41,       74,      170\\n', '\"Bert\",       \"M\",   42,       68,      166\\n', '\"Carl\",       \"M\",   32,       70,      155\\n', '\"Dave\",       \"M\",   39,       72,      167\\n', '\"Elly\",       \"F\",   30,       66,      124\\n', '\"Fran\",       \"F\",   33,       66,      115\\n', '\"Gwen\",       \"F\",   26,       64,      121\\n', '\"Hank\",       \"M\",   30,       71,      158\\n', '\"Ivan\",       \"M\",   53,       72,      175\\n', '\"Jake\",       \"M\",   32,       69,      143\\n', '\"Kate\",       \"F\",   47,       69,      139\\n', '\"Luke\",       \"M\",   34,       72,      163\\n', '\"Myra\",       \"F\",   23,       62,       98\\n', '\"Neil\",       \"M\",   36,       75,      160\\n', '\"Omar\",       \"M\",   38,       70,      145\\n', '\"Page\",       \"F\",   31,       67,      135\\n', '\"Quin\",       \"M\",   29,       71,      176\\n', '\"Ruth\",       \"F\",   28,       65,      131\\n', '\\n']\n"
     ]
    }
   ],
   "source": [
    "with open('biostats.csv') as file:\n",
    "    content = file.readlines()\n",
    "header = content[:1] \n",
    "rows = content[1:]\n",
    "print(header)\n",
    "print(rows)\n",
    "#where 'n' denotes the end of a row"
   ]
  },
  {
   "cell_type": "markdown",
   "id": "739bbc75",
   "metadata": {},
   "source": [
    "#### Pandas Library"
   ]
  },
  {
   "cell_type": "markdown",
   "id": "ccc67d2b",
   "metadata": {},
   "source": [
    "Although the previous method seems to work fine, we need to consider the complexity of huge datasets. When analysing big datasets it is essential to be able to access the data easily and efficiently, in that regard the most straight-forward way to achieve this, is via the \"pandas\" library"
   ]
  },
  {
   "cell_type": "code",
   "execution_count": 66,
   "id": "33acbaca",
   "metadata": {},
   "outputs": [
    {
     "name": "stderr",
     "output_type": "stream",
     "text": [
      "<ipython-input-66-9677b6cb668b>:2: FutureWarning: The default value of regex will change from True to False in a future version.\n",
      "  dataset1.columns = dataset1.columns.str.replace('[#,@,&,\"\",'', ]', '')\n"
     ]
    },
    {
     "data": {
      "text/html": [
       "<div>\n",
       "<style scoped>\n",
       "    .dataframe tbody tr th:only-of-type {\n",
       "        vertical-align: middle;\n",
       "    }\n",
       "\n",
       "    .dataframe tbody tr th {\n",
       "        vertical-align: top;\n",
       "    }\n",
       "\n",
       "    .dataframe thead th {\n",
       "        text-align: right;\n",
       "    }\n",
       "</style>\n",
       "<table border=\"1\" class=\"dataframe\">\n",
       "  <thead>\n",
       "    <tr style=\"text-align: right;\">\n",
       "      <th></th>\n",
       "      <th>Name</th>\n",
       "      <th>Sex</th>\n",
       "      <th>Age</th>\n",
       "      <th>Height(in)</th>\n",
       "      <th>Weight(lbs)</th>\n",
       "    </tr>\n",
       "  </thead>\n",
       "  <tbody>\n",
       "    <tr>\n",
       "      <th>0</th>\n",
       "      <td>Alex</td>\n",
       "      <td>\"M\"</td>\n",
       "      <td>41</td>\n",
       "      <td>74</td>\n",
       "      <td>170</td>\n",
       "    </tr>\n",
       "    <tr>\n",
       "      <th>1</th>\n",
       "      <td>Bert</td>\n",
       "      <td>\"M\"</td>\n",
       "      <td>42</td>\n",
       "      <td>68</td>\n",
       "      <td>166</td>\n",
       "    </tr>\n",
       "    <tr>\n",
       "      <th>2</th>\n",
       "      <td>Carl</td>\n",
       "      <td>\"M\"</td>\n",
       "      <td>32</td>\n",
       "      <td>70</td>\n",
       "      <td>155</td>\n",
       "    </tr>\n",
       "    <tr>\n",
       "      <th>3</th>\n",
       "      <td>Dave</td>\n",
       "      <td>\"M\"</td>\n",
       "      <td>39</td>\n",
       "      <td>72</td>\n",
       "      <td>167</td>\n",
       "    </tr>\n",
       "    <tr>\n",
       "      <th>4</th>\n",
       "      <td>Elly</td>\n",
       "      <td>\"F\"</td>\n",
       "      <td>30</td>\n",
       "      <td>66</td>\n",
       "      <td>124</td>\n",
       "    </tr>\n",
       "  </tbody>\n",
       "</table>\n",
       "</div>"
      ],
      "text/plain": [
       "   Name         Sex  Age  Height(in)  Weight(lbs)\n",
       "0  Alex         \"M\"   41          74          170\n",
       "1  Bert         \"M\"   42          68          166\n",
       "2  Carl         \"M\"   32          70          155\n",
       "3  Dave         \"M\"   39          72          167\n",
       "4  Elly         \"F\"   30          66          124"
      ]
     },
     "execution_count": 66,
     "metadata": {},
     "output_type": "execute_result"
    }
   ],
   "source": [
    "dataset1 = pd.read_csv('biostats.csv', delimiter = ',')\n",
    "dataset1.columns = dataset1.columns.str.replace('[#,@,&,\"\",'', ]', '')\n",
    "dataset1.head()"
   ]
  },
  {
   "cell_type": "markdown",
   "id": "789e3a37",
   "metadata": {},
   "source": [
    "The pandas library also allows the user to access specific columns and therefore permits him to focus with any variable of interest. For example we could compare the age of people within our dataset as follows. In this case, we can notice that majority of participants are young adults aged between 30-35 years old."
   ]
  },
  {
   "cell_type": "code",
   "execution_count": 67,
   "id": "bd0faac3",
   "metadata": {},
   "outputs": [
    {
     "data": {
      "text/plain": [
       "Text(0.5, 0, 'Age')"
      ]
     },
     "execution_count": 67,
     "metadata": {},
     "output_type": "execute_result"
    },
    {
     "data": {
      "image/png": "[encoded data removed]",
      "text/plain": [
       "<Figure size 720x576 with 1 Axes>"
      ]
     },
     "metadata": {
      "needs_background": "light"
     },
     "output_type": "display_data"
    }
   ],
   "source": [
    "plt.figure ( figsize = (10,8))\n",
    "dataset1.Age\n",
    "dataset1.Age.hist(bins = 5)\n",
    "plt.ylabel('Frequency', fontsize = 16)\n",
    "plt.xlabel('Age', fontsize = 16)"
   ]
  },
  {
   "cell_type": "markdown",
   "id": "6338e469",
   "metadata": {},
   "source": [
    "### Creating  CSV Files"
   ]
  },
  {
   "cell_type": "markdown",
   "id": "9c33fdfc",
   "metadata": {},
   "source": [
    "Let's assume we log daily average temperature and air quality data for the last week"
   ]
  },
  {
   "cell_type": "markdown",
   "id": "4bb03341",
   "metadata": {},
   "source": [
    "#### CSV.WRITER"
   ]
  },
  {
   "cell_type": "code",
   "execution_count": 68,
   "id": "7bbf1874",
   "metadata": {},
   "outputs": [],
   "source": [
    "header = ['Day', 'Temperature (Celsius)', 'Air Quality Index']\n",
    "\n",
    "rows = [['Monday 01/10', 25.2, 150], ['Tuesday 02/10', 27.3, 160], ['Wendnesday 03/10', 26, 165],\n",
    "        ['Thursday 04/10', 24.6, 160], ['Friday 05/10', 22.8, 142], ['Saturday 06/10', 23, 155],\n",
    "        ['Sunday 07/10', 24.6, 145]]"
   ]
  },
  {
   "cell_type": "code",
   "execution_count": 70,
   "id": "47e09d48",
   "metadata": {},
   "outputs": [],
   "source": [
    "filename = 'Biostats.csv'\n",
    "\n",
    "with open(filename, 'w', newline=\"\") as file:\n",
    "    csvwriter = csv.writer(file) # 2. create a csvwriter object\n",
    "    csvwriter.writerow(header)  # 4. write the header\n",
    "    csvwriter.writerows(rows)  # 5. write the rest of the data"
   ]
  },
  {
   "cell_type": "markdown",
   "id": "3f227a16",
   "metadata": {},
   "source": [
    "#### Using Pandas"
   ]
  },
  {
   "cell_type": "code",
   "execution_count": 72,
   "id": "753923ec",
   "metadata": {},
   "outputs": [],
   "source": [
    "df= pd.DataFrame(rows, columns=header)\n",
    "df.to_csv('Bio.csv', index=False)"
   ]
  },
  {
   "cell_type": "code",
   "execution_count": null,
   "id": "85c5d8dd",
   "metadata": {},
   "outputs": [],
   "source": []
  }
 ],
 "metadata": {
  "kernelspec": {
   "display_name": "Python 3",
   "language": "python",
   "name": "python3"
  },
  "language_info": {
   "codemirror_mode": {
    "name": "ipython",
    "version": 3
   },
   "file_extension": ".py",
   "mimetype": "text/x-python",
   "name": "python",
   "nbconvert_exporter": "python",
   "pygments_lexer": "ipython3",
   "version": "3.8.8"
  }
 },
 "nbformat": 4,
 "nbformat_minor": 5
}
