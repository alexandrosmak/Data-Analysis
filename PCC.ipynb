{
 "cells": [
  {
   "cell_type": "markdown",
   "id": "77e86889-c4d3-4a87-80a3-6aeae041600b",
   "metadata": {},
   "source": [
    "# pearson correlation coefficient\n",
    "\n",
    "Formula"
   ]
  },
  {
   "cell_type": "code",
   "execution_count": null,
   "id": "2eb79e96-a731-44df-96d8-9762055c46c0",
   "metadata": {},
   "outputs": [],
   "source": [
    "from scipy.stats import pearsonr\n",
    "corr, _ = pearsonr(signal_a, signal_b)\n",
    "print('Pearsons correlation: %.3f' % corr)"
   ]
  }
 ],
 "metadata": {
  "kernelspec": {
   "display_name": "Python 3 (ipykernel)",
   "language": "python",
   "name": "python3"
  },
  "language_info": {
   "codemirror_mode": {
    "name": "ipython",
    "version": 3
   },
   "file_extension": ".py",
   "mimetype": "text/x-python",
   "name": "python",
   "nbconvert_exporter": "python",
   "pygments_lexer": "ipython3",
   "version": "3.9.12"
  }
 },
 "nbformat": 4,
 "nbformat_minor": 5
}
